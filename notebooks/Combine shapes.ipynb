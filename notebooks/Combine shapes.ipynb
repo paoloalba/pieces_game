{
 "cells": [
  {
   "cell_type": "code",
   "execution_count": 1,
   "id": "7b6138ec-2f86-492b-b816-1b4dcae0b69e",
   "metadata": {},
   "outputs": [],
   "source": [
    "%load_ext autoreload\n",
    "%load_ext lab_black\n",
    "%autoreload 2\n",
    "\n",
    "import os\n",
    "import sys\n",
    "\n",
    "sys.path.append(os.getenv(\"GLOBAL_LIBRARIES_PATH\", \"\"))\n",
    "sys.path = list(set(sys.path))"
   ]
  },
  {
   "cell_type": "code",
   "execution_count": 18,
   "id": "0932ecfd-7a3b-40aa-b4b7-9c4bbfea9880",
   "metadata": {},
   "outputs": [],
   "source": [
    "import numpy as np\n",
    "\n",
    "from pathlib import Path\n",
    "from PIL import Image, ImageDraw\n",
    "from IPython.display import display\n",
    "\n",
    "from helpers.shapes import Point, Shape, Segment\n",
    "\n",
    "pmt_storage = Path(os.getenv(\"PMT_STG_PATH\"))"
   ]
  },
  {
   "cell_type": "code",
   "execution_count": 3,
   "id": "b4ef3efa-30ca-4598-911c-9cd981bb40bd",
   "metadata": {},
   "outputs": [
    {
     "data": {
      "image/png": "[encoded data removed]",
      "text/plain": [
       "<PIL.Image.Image image mode=RGB size=200x200>"
      ]
     },
     "execution_count": 3,
     "metadata": {},
     "output_type": "execute_result"
    }
   ],
   "source": [
    "white_col = (255, 255, 255)\n",
    "im = Image.new(\"RGB\", (200, 200), white_col)\n",
    "\n",
    "shape_list = []\n",
    "\n",
    "shape_list.append(\n",
    "    Shape(points=[Point(0, 0), Point(0, 100), Point(100, 100), Point(100, 0)])\n",
    ")\n",
    "shape_list.append(\n",
    "    Shape(points=[Point(10, 10), Point(0, 100), Point(100, 100), Point(100, 0)])\n",
    ")\n",
    "shape_list.append(\n",
    "    Shape(points=[Point(20, 20), Point(0, 100), Point(100, 100), Point(100, 0)])\n",
    ")\n",
    "shape_list.append(\n",
    "    Shape(points=[Point(30, 30), Point(0, 100), Point(100, 100), Point(100, 0)])\n",
    ")\n",
    "\n",
    "for sss in shape_list:\n",
    "    sss.draw(im)\n",
    "\n",
    "im"
   ]
  },
  {
   "cell_type": "code",
   "execution_count": 69,
   "id": "dd1818d7-b5ee-470e-a1d1-7c607f6b139d",
   "metadata": {},
   "outputs": [
    {
     "data": {
      "text/plain": [
       "0.7853981633974483"
      ]
     },
     "execution_count": 69,
     "metadata": {},
     "output_type": "execute_result"
    }
   ],
   "source": [
    "np.arctan(1)"
   ]
  },
  {
   "cell_type": "code",
   "execution_count": 74,
   "id": "3d90c851-ab0f-4050-b378-fecae3fabe9f",
   "metadata": {},
   "outputs": [
    {
     "data": {
      "text/plain": [
       "(0.7853981633974483, 0.9999999999999999)"
      ]
     },
     "execution_count": 74,
     "metadata": {},
     "output_type": "execute_result"
    }
   ],
   "source": [
    "np.pi / 4, np.tan(np.pi / 4)"
   ]
  },
  {
   "cell_type": "code",
   "execution_count": 96,
   "id": "2356d49c-c875-42b7-80ca-a7c14cb10d31",
   "metadata": {},
   "outputs": [
    {
     "data": {
      "image/png": "[encoded data removed]",
      "text/plain": [
       "<PIL.Image.Image image mode=RGB size=100x100>"
      ]
     },
     "metadata": {},
     "output_type": "display_data"
    },
    {
     "data": {
      "image/png": "[encoded data removed]",
      "text/plain": [
       "<PIL.Image.Image image mode=RGB size=100x100>"
      ]
     },
     "metadata": {},
     "output_type": "display_data"
    }
   ],
   "source": [
    "im = Shape.create_empty_img()\n",
    "\n",
    "s1 = Shape(\n",
    "    [Point(0, 0), Point(0, 30), Point(30, 30), Point(30, 0)], color_dict={2: \"red\"}\n",
    ")\n",
    "s1.draw(im)\n",
    "\n",
    "s2 = Shape([Point(50, 50), Point(64, 74), Point(30, 70)], color_dict={0: \"red\"})\n",
    "s2.draw(im)\n",
    "\n",
    "display(im)\n",
    "\n",
    "im = Shape.create_empty_img()\n",
    "\n",
    "g1 = s1.segments[2]\n",
    "g2 = s2.segments[0]\n",
    "# print(g1, g2, g1.length, g2.length)\n",
    "\n",
    "s1.combine(s2, (2, 0), (0, 0))\n",
    "\n",
    "# s1.rotate(Point(15, 15), 360)\n",
    "s1.draw(im)\n",
    "\n",
    "# s2.draw(im)\n",
    "# s2.rotate(g1.p0, 30)\n",
    "s2.draw(im)\n",
    "\n",
    "display(im)"
   ]
  }
 ],
 "metadata": {
  "kernelspec": {
   "display_name": "Python 3 (ipykernel)",
   "language": "python",
   "name": "python3"
  },
  "language_info": {
   "codemirror_mode": {
    "name": "ipython",
    "version": 3
   },
   "file_extension": ".py",
   "mimetype": "text/x-python",
   "name": "python",
   "nbconvert_exporter": "python",
   "pygments_lexer": "ipython3",
   "version": "3.10.8"
  }
 },
 "nbformat": 4,
 "nbformat_minor": 5
}
