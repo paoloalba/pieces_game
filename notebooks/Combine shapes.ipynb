{
 "cells": [
  {
   "cell_type": "markdown",
   "id": "b5704bb0-ea2e-4b9f-a289-38a3a14feea4",
   "metadata": {
    "tags": []
   },
   "source": [
    "# Imports"
   ]
  },
  {
   "cell_type": "code",
   "execution_count": 70,
   "id": "7b6138ec-2f86-492b-b816-1b4dcae0b69e",
   "metadata": {},
   "outputs": [
    {
     "name": "stdout",
     "output_type": "stream",
     "text": [
      "The autoreload extension is already loaded. To reload it, use:\n",
      "  %reload_ext autoreload\n",
      "The lab_black extension is already loaded. To reload it, use:\n",
      "  %reload_ext lab_black\n"
     ]
    }
   ],
   "source": [
    "%load_ext autoreload\n",
    "%load_ext lab_black\n",
    "%autoreload 2\n",
    "\n",
    "import os\n",
    "import sys\n",
    "\n",
    "sys.path.append(os.getenv(\"GLOBAL_LIBRARIES_PATH\", \"\"))\n",
    "sys.path = list(set(sys.path))\n",
    "\n",
    "import numpy as np\n",
    "\n",
    "from pathlib import Path\n",
    "from PIL import Image, ImageDraw\n",
    "from IPython.display import display\n",
    "from copy import deepcopy\n",
    "\n",
    "# from helpers.shapes import Point, Shape, Segment\n",
    "from shapely import Point, Polygon, affinity, LineString\n",
    "from shapely.ops import unary_union\n",
    "from helpers.polygon_wrapper import WrpShape\n",
    "\n",
    "pmt_storage = Path(os.getenv(\"PMT_STG_PATH\"))"
   ]
  },
  {
   "cell_type": "markdown",
   "id": "3f9054ea-8f0f-4e49-9bd5-9c183e635052",
   "metadata": {},
   "source": [
    "# Continue"
   ]
  },
  {
   "cell_type": "markdown",
   "id": "fb7034f0-7ab5-4803-be0e-91cbeecf44f1",
   "metadata": {
    "jp-MarkdownHeadingCollapsed": true,
    "tags": []
   },
   "source": [
    "### check framework"
   ]
  },
  {
   "cell_type": "code",
   "execution_count": 2,
   "id": "b4ef3efa-30ca-4598-911c-9cd981bb40bd",
   "metadata": {},
   "outputs": [
    {
     "data": {
      "image/png": "[encoded data removed]",
      "text/plain": [
       "<PIL.Image.Image image mode=RGB size=200x200>"
      ]
     },
     "execution_count": 2,
     "metadata": {},
     "output_type": "execute_result"
    }
   ],
   "source": [
    "white_col = (255, 255, 255)\n",
    "im = Image.new(\"RGB\", (200, 200), white_col)\n",
    "\n",
    "shape_list = []\n",
    "\n",
    "shape_list.append(\n",
    "    Shape(points=[Point(0, 0), Point(0, 100), Point(100, 100), Point(100, 0)])\n",
    ")\n",
    "shape_list.append(\n",
    "    Shape(points=[Point(10, 10), Point(0, 100), Point(100, 100), Point(100, 0)])\n",
    ")\n",
    "shape_list.append(\n",
    "    Shape(points=[Point(20, 20), Point(0, 100), Point(100, 100), Point(100, 0)])\n",
    ")\n",
    "shape_list.append(\n",
    "    Shape(points=[Point(30, 30), Point(0, 100), Point(100, 100), Point(100, 0)])\n",
    ")\n",
    "\n",
    "for sss in shape_list:\n",
    "    sss.draw(im)\n",
    "\n",
    "im"
   ]
  },
  {
   "cell_type": "markdown",
   "id": "fcea5192-e268-4487-b5a3-96ed745b151c",
   "metadata": {
    "jp-MarkdownHeadingCollapsed": true,
    "tags": []
   },
   "source": [
    "### check combination"
   ]
  },
  {
   "cell_type": "code",
   "execution_count": 3,
   "id": "2356d49c-c875-42b7-80ca-a7c14cb10d31",
   "metadata": {},
   "outputs": [
    {
     "data": {
      "image/png": "[encoded data removed]",
      "text/plain": [
       "<PIL.Image.Image image mode=RGB size=500x500>"
      ]
     },
     "metadata": {},
     "output_type": "display_data"
    },
    {
     "ename": "AttributeError",
     "evalue": "'tuple' object has no attribute 'draw'",
     "output_type": "error",
     "traceback": [
      "\u001b[0;31m---------------------------------------------------------------------------\u001b[0m",
      "\u001b[0;31mAttributeError\u001b[0m                            Traceback (most recent call last)",
      "Cell \u001b[0;32mIn[3], line 18\u001b[0m\n\u001b[1;32m     16\u001b[0m im \u001b[38;5;241m=\u001b[39m Shape\u001b[38;5;241m.\u001b[39mcreate_empty_img()\n\u001b[1;32m     17\u001b[0m cmb_shape \u001b[38;5;241m=\u001b[39m s1\u001b[38;5;241m.\u001b[39mcombine(s2, (\u001b[38;5;241m2\u001b[39m, \u001b[38;5;241m0\u001b[39m), (\u001b[38;5;241m0\u001b[39m, \u001b[38;5;241m0\u001b[39m))\n\u001b[0;32m---> 18\u001b[0m \u001b[43mcmb_shape\u001b[49m\u001b[38;5;241;43m.\u001b[39;49m\u001b[43mdraw\u001b[49m(im)\n\u001b[1;32m     19\u001b[0m display(im)\n",
      "\u001b[0;31mAttributeError\u001b[0m: 'tuple' object has no attribute 'draw'"
     ]
    }
   ],
   "source": [
    "im = Shape.create_empty_img()\n",
    "\n",
    "s1 = Shape(\n",
    "    [Point(0, 0), Point(0, 30), Point(30, 30), Point(30, 0)], color_dict={2: \"red\"}\n",
    ")\n",
    "s1.draw(im)\n",
    "\n",
    "s2 = Shape(\n",
    "    [Point(50, 50), Point(64, 74), Point(30, 70), Point(36, 54)],\n",
    "    color_dict={0: \"red\"},\n",
    ")\n",
    "s2.draw(im)\n",
    "\n",
    "display(im)\n",
    "\n",
    "im = Shape.create_empty_img()\n",
    "cmb_shape = s1.combine(s2, (2, 0), (0, 0))\n",
    "cmb_shape.draw(im)\n",
    "display(im)"
   ]
  },
  {
   "cell_type": "markdown",
   "id": "8b142185-f595-4958-af90-3250f0bc61ac",
   "metadata": {},
   "source": [
    "# everything with Shapely"
   ]
  },
  {
   "cell_type": "code",
   "execution_count": 7,
   "id": "466e051e-8ded-4b20-bdbc-12566ce6f0f4",
   "metadata": {},
   "outputs": [
    {
     "data": {
      "text/plain": [
       "[(1.0, 0.0)]"
      ]
     },
     "execution_count": 7,
     "metadata": {},
     "output_type": "execute_result"
    }
   ],
   "source": [
    "p1 = Point(0, 0)\n",
    "p2 = Point(1, 0)\n",
    "\n",
    "list((p2).coords)"
   ]
  },
  {
   "cell_type": "code",
   "execution_count": 43,
   "id": "efdf2812-3fde-46de-bbb6-401ec48fecec",
   "metadata": {},
   "outputs": [
    {
     "name": "stdout",
     "output_type": "stream",
     "text": [
      "[(0.0, 0.0), (0.0, -30.0), (30.0, -30.0), (30.0, -60.0), (60.0, -60.0), (60.0, -30.0), (90.0, -30.0), (90.0, 0.0), (0.0, 0.0)]\n"
     ]
    },
    {
     "data": {
      "image/svg+xml": [
       "<svg xmlns=\"http://www.w3.org/2000/svg\" xmlns:xlink=\"http://www.w3.org/1999/xlink\" width=\"100.0\" height=\"100.0\" viewBox=\"-3.6 -63.6 97.19999999999999 67.2\" preserveAspectRatio=\"xMinYMin meet\"><g transform=\"matrix(1,0,0,-1,0,-60.0)\"><path fill-rule=\"evenodd\" fill=\"#66cc99\" stroke=\"#555555\" stroke-width=\"1.9439999999999997\" opacity=\"0.6\" d=\"M 0.0,0.0 L 0.0,-30.0 L 30.0,-30.0 L 30.0,-60.0 L 60.0,-60.0 L 60.0,-30.0 L 90.0,-30.0 L 90.0,0.0 L 0.0,0.0 z\" /></g></svg>"
      ],
      "text/plain": [
       "<POLYGON ((0 0, 0 -30, 30 -30, 30 -60, 60 -60, 60 -30, 90 -30, 90 0, 0 0))>"
      ]
     },
     "execution_count": 43,
     "metadata": {},
     "output_type": "execute_result"
    }
   ],
   "source": [
    "t_pol = WrpShape(\n",
    "    ((0, 0), (0, -30), (30, -30), (30, -60), (60, -60), (60, -30), (90, -30), (90, 0))\n",
    ")\n",
    "t_pol = t_pol.polygon\n",
    "# t_pol = affinity.translate(t_pol, xoff=30, yoff=30)\n",
    "# t_pol = affinity.rotate(t_pol, angle=10, origin=(0, 0))\n",
    "# t_pol = t_pol.reverse()\n",
    "print(list(t_pol.exterior.coords))\n",
    "t_pol"
   ]
  },
  {
   "cell_type": "code",
   "execution_count": 41,
   "id": "e1a69ae0-7eeb-4aa6-a5f0-1bd9eff87f47",
   "metadata": {},
   "outputs": [],
   "source": [
    "sh_l = []\n",
    "sh_l.append(\n",
    "    WrpShape(\n",
    "        (\n",
    "            (0, 0),\n",
    "            (0, -30),\n",
    "            (30, -30),\n",
    "        )\n",
    "    )\n",
    ")\n",
    "sh_l.append(\n",
    "    WrpShape(\n",
    "        (\n",
    "            (30, -30),\n",
    "            (30, -60),\n",
    "            (60, -60),\n",
    "            (34, 0),\n",
    "            (0, 0),\n",
    "        )\n",
    "    )\n",
    ")\n",
    "sh_l.append(\n",
    "    WrpShape(\n",
    "        (\n",
    "            (60, -60),\n",
    "            (60, -30),\n",
    "            (90, -30),\n",
    "            (90, 0),\n",
    "            (34, 0),\n",
    "        )\n",
    "    )\n",
    ")"
   ]
  },
  {
   "cell_type": "code",
   "execution_count": 77,
   "id": "f38a0c47-91fc-47d0-8568-81e86bba8e0f",
   "metadata": {},
   "outputs": [
    {
     "data": {
      "text/plain": [
       "45.0"
      ]
     },
     "execution_count": 77,
     "metadata": {},
     "output_type": "execute_result"
    }
   ],
   "source": [
    "angle"
   ]
  },
  {
   "cell_type": "code",
   "execution_count": 91,
   "id": "e7e51365-2242-4a1b-af25-5b8f625017f4",
   "metadata": {},
   "outputs": [
    {
     "name": "stdout",
     "output_type": "stream",
     "text": [
      "Intersection (0.0, 0.0) (30.0, -60.0)\n",
      "Intersection (0.0, 0.0) (0.0, 0.0)\n",
      "Intersection (0.0, -30.0) (30.0, -30.0)\n",
      "Intersection (0.0, -30.0) (0.0, 0.0)\n",
      "Intersection (0.0, -30.0) (30.0, -30.0)\n",
      "Intersection (30.0, -30.0) (30.0, -30.0)\n",
      "Intersection (30.0, -30.0) (30.0, -60.0)\n",
      "Intersection (30.0, -30.0) (60.0, -60.0)\n",
      "Intersection (30.0, -30.0) (30.0, -30.0)\n",
      "Intersection (0.0, 0.0) (30.0, -60.0)\n",
      "Intersection (0.0, 0.0) (0.0, 0.0)\n"
     ]
    }
   ],
   "source": [
    "s1, s2 = sh_l[:2]\n",
    "cmb_l = s1.get_all_combinations(s2)"
   ]
  },
  {
   "cell_type": "code",
   "execution_count": 97,
   "id": "2a993f35-d42c-41c7-8b3b-790dab568fd9",
   "metadata": {},
   "outputs": [
    {
     "data": {
      "application/vnd.jupyter.widget-view+json": {
       "model_id": "91bb318a47734c66818c7be3e3ccb70b",
       "version_major": 2,
       "version_minor": 0
      },
      "text/plain": [
       "VBox(children=(IntText(value=0), Output()))"
      ]
     },
     "execution_count": 97,
     "metadata": {},
     "output_type": "execute_result"
    }
   ],
   "source": [
    "import ipywidgets as widgets\n",
    "\n",
    "into = widgets.IntText()\n",
    "output = widgets.Output()\n",
    "\n",
    "\n",
    "def on_chg(_):\n",
    "    output.clear_output(wait=True)\n",
    "    with output:\n",
    "        display(cmb_l[into.value])\n",
    "\n",
    "\n",
    "on_chg({\"\": None})\n",
    "into.observe(on_chg, names=\"value\")\n",
    "widgets.VBox([into, output])"
   ]
  },
  {
   "cell_type": "markdown",
   "id": "2ed2464f-b2f5-4a97-9385-f7a5fe2f51d1",
   "metadata": {
    "jp-MarkdownHeadingCollapsed": true,
    "tags": []
   },
   "source": [
    "# Implement T test"
   ]
  },
  {
   "cell_type": "code",
   "execution_count": 37,
   "id": "30fcff22-f75f-4a96-b89f-81901cdc2a4e",
   "metadata": {},
   "outputs": [
    {
     "data": {
      "image/png": "[encoded data removed]",
      "text/plain": [
       "<PIL.Image.Image image mode=RGB size=500x500>"
      ]
     },
     "execution_count": 37,
     "metadata": {},
     "output_type": "execute_result"
    }
   ],
   "source": [
    "im = Shape.create_empty_img()\n",
    "\n",
    "s1 = Shape(\n",
    "    [\n",
    "        Point(0, 0),\n",
    "        Point(0, 30),\n",
    "        Point(30, 30),\n",
    "        Point(30, 60),\n",
    "        Point(60, 60),\n",
    "        Point(60, 30),\n",
    "        Point(90, 30),\n",
    "        Point(90, 0),\n",
    "    ],\n",
    ")\n",
    "s1.translate(Point(250, 250) - Point(0, 0))\n",
    "s1.draw(im)\n",
    "im"
   ]
  },
  {
   "cell_type": "code",
   "execution_count": 56,
   "id": "392bf671-76ad-41db-b14c-dc39a1c9d2e5",
   "metadata": {},
   "outputs": [
    {
     "data": {
      "image/png": "[encoded data removed]",
      "text/plain": [
       "<PIL.Image.Image image mode=RGB size=500x500>"
      ]
     },
     "execution_count": 56,
     "metadata": {},
     "output_type": "execute_result"
    }
   ],
   "source": [
    "im = Shape.create_empty_img()\n",
    "\n",
    "sh_l = []\n",
    "main_s1 = Shape(\n",
    "    [\n",
    "        Point(0, 0),\n",
    "        Point(0, 30),\n",
    "        Point(30, 30),\n",
    "        Point(30, 60),\n",
    "        Point(60, 60),\n",
    "        Point(60, 30),\n",
    "        Point(90, 30),\n",
    "        Point(90, 0),\n",
    "    ],\n",
    ")\n",
    "# sh_l.append(main_s1)\n",
    "\n",
    "s1 = Shape(deepcopy(main_s1.points[:3]))\n",
    "sh_l.append(s1)\n",
    "\n",
    "s1 = Shape(\n",
    "    [\n",
    "        Point(30, 30),\n",
    "        Point(30, 60),\n",
    "        Point(60, 60),\n",
    "        Point(34, 0),\n",
    "        Point(0, 0),\n",
    "    ],\n",
    ")\n",
    "sh_l.append(s1)\n",
    "\n",
    "s1 = Shape(\n",
    "    [\n",
    "        Point(60, 60),\n",
    "        Point(60, 30),\n",
    "        Point(90, 30),\n",
    "        Point(90, 0),\n",
    "        Point(34, 0),\n",
    "    ],\n",
    ")\n",
    "sh_l.append(s1)\n",
    "\n",
    "\n",
    "for sss in sh_l:\n",
    "    #    sss.translate(Point(250, 250) - Point(0, 0))\n",
    "    sss.center(Point(250, 250))\n",
    "    sss.draw(im)\n",
    "im"
   ]
  },
  {
   "cell_type": "code",
   "execution_count": 79,
   "id": "fe4c2e21-d5f1-4e96-aea0-55d14448f4f5",
   "metadata": {},
   "outputs": [
    {
     "name": "stdout",
     "output_type": "stream",
     "text": [
      "(240.0,230.0)->(240.0,260.0) (249.2,250.0)->(249.2,280.0) (240.0,230.0)\n",
      "(240.0,230.0)->(240.0,260.0) (240.0,230.0)->(240.0,260.0) (240.0,230.0)\n",
      "0.0\n",
      "(240.0,230.0)->(240.0,260.0) (240.0,230.0)->(240.0,200.0) (240.0,230.0)\n"
     ]
    },
    {
     "data": {
      "image/png": "[encoded data removed]",
      "text/plain": [
       "<PIL.Image.Image image mode=RGB size=500x500>"
      ]
     },
     "metadata": {},
     "output_type": "display_data"
    }
   ],
   "source": [
    "sss1, sss2 = sh_l[:2]\n",
    "s1, s2 = deepcopy(sss1), deepcopy(sss2)\n",
    "s1.color_dict = {0: \"red\"}\n",
    "s2.color_dict = {0: \"red\"}\n",
    "s1, s2 = s1.combine(s2, (0, 0), (0, 0))\n",
    "Shape.show_all([s1, s2])"
   ]
  },
  {
   "cell_type": "code",
   "execution_count": 80,
   "id": "282bd01b-f406-4a4e-99fe-062f9fbbfee1",
   "metadata": {},
   "outputs": [
    {
     "data": {
      "text/plain": [
       "False"
      ]
     },
     "execution_count": 80,
     "metadata": {},
     "output_type": "execute_result"
    }
   ],
   "source": [
    "s1.polygon.overlaps(s2.polygon)"
   ]
  },
  {
   "cell_type": "code",
   "execution_count": 81,
   "id": "65f320f3-577e-4f62-8972-22f67ea42380",
   "metadata": {},
   "outputs": [
    {
     "data": {
      "text/plain": [
       "[(240.0,230.0), (240.0,260.0), (270.0,260.0)]"
      ]
     },
     "execution_count": 81,
     "metadata": {},
     "output_type": "execute_result"
    }
   ],
   "source": [
    "s1.points"
   ]
  },
  {
   "cell_type": "code",
   "execution_count": 82,
   "id": "2fd7f0ba-4223-49b2-9638-11914b813da5",
   "metadata": {},
   "outputs": [
    {
     "data": {
      "text/plain": [
       "[(240.0,230.0), (240.0,200.0), (210.0,200.0), (236.0,260.0), (270.0,260.0)]"
      ]
     },
     "execution_count": 82,
     "metadata": {},
     "output_type": "execute_result"
    }
   ],
   "source": [
    "s2.points"
   ]
  },
  {
   "cell_type": "code",
   "execution_count": 85,
   "id": "2640cb1c-6dea-46cc-8204-8bc61c6ec120",
   "metadata": {},
   "outputs": [
    {
     "data": {
      "image/svg+xml": [
       "<svg xmlns=\"http://www.w3.org/2000/svg\" xmlns:xlink=\"http://www.w3.org/1999/xlink\" width=\"100.0\" height=\"100.0\" viewBox=\"207.6 -262.4 64.79999999999998 64.79999999999998\" preserveAspectRatio=\"xMinYMin meet\"><g transform=\"matrix(1,0,0,-1,0,-460.0)\"><path fill-rule=\"evenodd\" fill=\"#66cc99\" stroke=\"#555555\" stroke-width=\"1.2959999999999996\" opacity=\"0.6\" d=\"M 240.0,-230.0 L 240.0,-200.0 L 210.0,-200.0 L 236.0,-260.0 L 270.0,-260.0 L 240.0,-230.0 z\" /></g></svg>"
      ],
      "text/plain": [
       "<POLYGON ((240 -230, 240 -200, 210 -200, 236 -260, 270 -260, 240 -230))>"
      ]
     },
     "execution_count": 85,
     "metadata": {},
     "output_type": "execute_result"
    }
   ],
   "source": [
    "s2.polygon"
   ]
  },
  {
   "cell_type": "code",
   "execution_count": 54,
   "id": "0cbdea35-c140-479c-bc2f-0140041f767d",
   "metadata": {},
   "outputs": [
    {
     "data": {
      "text/plain": [
       "False"
      ]
     },
     "execution_count": 54,
     "metadata": {},
     "output_type": "execute_result"
    }
   ],
   "source": [
    "p1 = s1.polygon\n",
    "p2 = s2.polygon\n",
    "\n",
    "p1.overlaps(p2)"
   ]
  },
  {
   "cell_type": "code",
   "execution_count": null,
   "id": "64e950a2-ae5c-481d-b26f-be82839e46be",
   "metadata": {},
   "outputs": [],
   "source": [
    "s1 = deepcopy(sss1)\n",
    "s2 = deepcopy(sss2)\n",
    "\n",
    "g1 = s1.segments[0]\n",
    "g2 = s2.segments[0]\n",
    "\n",
    "pp = (g1.points[0], g2.points[0])\n",
    "\n",
    "center_point = pp[0]\n",
    "\n",
    "s2.translate(pp[0] - pp[1])\n",
    "angl = degrees(g2.coeff) - degrees(g1.coeff)\n",
    "# s2.rotate(center_point, 180 - angl)\n",
    "\n",
    "im = Shape.create_empty_img()\n",
    "\n",
    "s1.draw(im)\n",
    "s2.draw(im)\n",
    "im"
   ]
  },
  {
   "cell_type": "code",
   "execution_count": null,
   "id": "3b9a22b5-9a7b-470b-9442-c292f3654ae9",
   "metadata": {},
   "outputs": [],
   "source": [
    "cmb_l = sss1.get_all_combinations(sss2)"
   ]
  },
  {
   "cell_type": "code",
   "execution_count": null,
   "id": "001f47b5-e10f-4df5-9c32-2ab005ba363b",
   "metadata": {},
   "outputs": [],
   "source": [
    "len(cmb_l)"
   ]
  }
 ],
 "metadata": {
  "kernelspec": {
   "display_name": "Python 3 (ipykernel)",
   "language": "python",
   "name": "python3"
  },
  "language_info": {
   "codemirror_mode": {
    "name": "ipython",
    "version": 3
   },
   "file_extension": ".py",
   "mimetype": "text/x-python",
   "name": "python",
   "nbconvert_exporter": "python",
   "pygments_lexer": "ipython3",
   "version": "3.10.8"
  }
 },
 "nbformat": 4,
 "nbformat_minor": 5
}
